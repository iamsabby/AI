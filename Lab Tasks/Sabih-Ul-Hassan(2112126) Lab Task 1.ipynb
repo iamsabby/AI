{
 "cells": [
  {
   "cell_type": "code",
   "execution_count": null,
   "metadata": {},
   "outputs": [],
   "source": [
    "from collections import defaultdict\n",
    "def generateAdjacencyLst(edges):\n",
    "    adjacencyList = defaultdict(list)\n",
    "    for u, v in edges:\n",
    "        adjacencyList[u].append(v)\n",
    "        adjacencyList[v].append(u)\n",
    "    return adjacencyList\n",
    "edges = [['A', 'B'], ['A', 'C'], ['B', 'D'], ['B', 'E'],\n",
    "         ['C', 'F'], ['C', 'G'], ['D', 'H'], ['D', 'I'],\n",
    "         ['E', 'J'], ['E', 'K'], ['F', 'L'], ['F', 'M']]\n",
    "adjacencyList = generateAdjacencyLst(edges)\n",
    "adjacencyList\n",
    "\n",
    "**********************************************************************************\n",
    "\n",
    "def bfs(adjacencyList, vertex):\n",
    "    visitedSet = set()\n",
    "    queue = []\n",
    "    visitedSet.add(vertex)\n",
    "    queue.append(vertex)\n",
    "    \n",
    "    result = []\n",
    "    while queue:\n",
    "        v = queue[0]\n",
    "        result.append(v)\n",
    "        queue = queue[1:]\n",
    "        for neighbor in adjacencyList[v]:\n",
    "            if neighbor not in visitedSet:\n",
    "                visitedSet.add(neighbor)\n",
    "                queue.append(neighbor)\n",
    "    return result\n",
    "\n",
    "bfs(adjacencyList, 'A')"
   ]
  }
 ],
 "metadata": {
  "language_info": {
   "name": "python"
  }
 },
 "nbformat": 4,
 "nbformat_minor": 2
}
