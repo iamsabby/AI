{
 "cells": [
  {
   "cell_type": "code",
   "execution_count": null,
   "metadata": {},
   "outputs": [],
   "source": [
    "def dfs(adjacencyList, vertex, visitedSet = None, path = None):\n",
    "    if visitedSet is None:\n",
    "        visitedSet = set()\n",
    "    if path is None:\n",
    "        path = []\n",
    "        \n",
    "    visitedSet.add(vertex)\n",
    "    path.append(vertex)\n",
    "    if vertex in adjacencyList:\n",
    "        for neighbor in adjacencyList[vertex]:\n",
    "            if neighbor not in visitedSet:\n",
    "                dfs(adjacencyList, neighbor, visitedSet, path)\n",
    "    return path\n",
    "\n",
    "print(dfs(adjacencyList, 2))"
   ]
  }
 ],
 "metadata": {
  "language_info": {
   "name": "python"
  }
 },
 "nbformat": 4,
 "nbformat_minor": 2
}
