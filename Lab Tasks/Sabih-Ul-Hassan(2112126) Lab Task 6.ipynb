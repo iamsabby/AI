{
 "cells": [
  {
   "cell_type": "code",
   "execution_count": null,
   "metadata": {},
   "outputs": [],
   "source": [
    "import numpy as np\n",
    "class SLP(object):\n",
    "    def __init__(self, input_size, learning_rate=1, epochs=1000):\n",
    "        self.Weights = np.zeros(input_size+1)\n",
    "        self.epochs = epochs\n",
    "        self.learning_rate = learning_rate\n",
    "       \n",
    "    def activation_function(self, input_value):\n",
    "        return 1 if input_value >= 0 else 0\n",
    "   \n",
    "    def predict(self, input_value):\n",
    "        z = self.Weights.T.dot(input_value)\n",
    "        a = self.activation_function(z)\n",
    "        return a\n",
    "    def perceptron_Learning(self, given_input, desired_output):\n",
    "        for j in range(self.epochs):\n",
    "            for i in range(desired_output.shape[0]):\n",
    "                x = np.insert(given_input[i], 0, 1)\n",
    "                y = self.predict(x)\n",
    "                e = desired_output[i] - y\n",
    "                print(\"Error:\", e)\n",
    "                print(\"Predicted output:\", y)\n",
    "                self.Weights = self.Weights + self.learning_rate * e * x\n",
    "               \n",
    "given_input = np.array([\n",
    "    [0,0],        \n",
    "    [0,1],\n",
    "    [1,1],\n",
    "    [1,1]\n",
    "])\n",
    "desired_output = np.array([0,1,1,1])\n",
    "print(\"Given Input \\n\", given_input)\n",
    "print(\"Desired Output\", desired_output)\n",
    "slp = SLP(input_size=2)\n",
    "slp.perceptron_Learning(given_input,desired_output)\n",
    "print(\"Input Weights with bias\", slp.Weights)\n",
    "print(\"Learning rate:\", slp.learning_rate)\n",
    "print(\"Total epochs:\", slp.epochs)\n"
   ]
  }
 ],
 "metadata": {
  "language_info": {
   "name": "python"
  }
 },
 "nbformat": 4,
 "nbformat_minor": 2
}
