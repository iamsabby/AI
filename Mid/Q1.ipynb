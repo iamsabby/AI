{
 "cells": [
  {
   "cell_type": "code",
   "execution_count": 19,
   "metadata": {},
   "outputs": [],
   "source": [
    "#REG. NO: 2112126\n",
    "\n",
    "from collections import defaultdict\n",
    "\n",
    "def generateAjacencyList(edges):\n",
    "    adjacencyList = defaultdict(list)\n",
    "    for u, v in adjacencyList:\n",
    "        adjacencyList[u].append(v)\n",
    "        adjacencyList[v].append(u)\n",
    "    return adjacencyList\n",
    "    \n",
    "    edges[\n",
    "        ['6','12'],['6','18'],['12','24'],['12','30'],['18','36'],['18','42'],['24','48'],['24','54'],['30','60'],['30','66'],['36','72']\n",
    "    ]\n",
    "       \n",
    "    adjacencyList = generateAjacencyList(edges)\n",
    "    adjacencyList\n"
   ]
  },
  {
   "cell_type": "code",
   "execution_count": 20,
   "metadata": {},
   "outputs": [],
   "source": [
    "\n",
    "def dfs(adjacencyList,vertex, visited= None,path=None):\n",
    "    if visited is None:\n",
    "        visited = set()\n",
    "        if path is None:\n",
    "            path = []\n",
    "        visited.add(vertex)\n",
    "        path.append(vertex)\n",
    "\n",
    "    if vertex is adjacencyList:\n",
    "        for neighbor in adjacencyList[vertex]:\n",
    "            if neighbor not in visited:\n",
    "                dfs(adjacencyList,neighbor,visited,path)\n",
    "            return path\n",
    "        dfs(adjacencyList,'6')"
   ]
  }
 ],
 "metadata": {
  "kernelspec": {
   "display_name": "base",
   "language": "python",
   "name": "python3"
  },
  "language_info": {
   "codemirror_mode": {
    "name": "ipython",
    "version": 3
   },
   "file_extension": ".py",
   "mimetype": "text/x-python",
   "name": "python",
   "nbconvert_exporter": "python",
   "pygments_lexer": "ipython3",
   "version": "3.11.7"
  }
 },
 "nbformat": 4,
 "nbformat_minor": 2
}
